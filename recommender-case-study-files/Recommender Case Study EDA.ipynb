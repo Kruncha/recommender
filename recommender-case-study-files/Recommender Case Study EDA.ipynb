{
 "cells": [
  {
   "cell_type": "code",
   "execution_count": 271,
   "metadata": {
    "collapsed": true
   },
   "outputs": [],
   "source": [
    "import graphlab\n",
    "import numpy as np\n",
    "import pandas as pd\n",
    "from nltk.corpus import stopwords\n",
    "from nltk.tokenize import word_tokenize\n",
    "from nltk.stem.porter import PorterStemmer\n",
    "from nltk.stem.snowball import SnowballStemmer\n",
    "from nltk.stem.wordnet import WordNetLemmatizer\n",
    "from nltk import pos_tag\n",
    "from sklearn.feature_extraction.text import CountVectorizer, TfidfVectorizer\n",
    "from sklearn.metrics.pairwise import linear_kernel\n",
    "\n",
    "pd.set_option(\"display.max_colwidth\", 1000)"
   ]
  },
  {
   "cell_type": "code",
   "execution_count": 272,
   "metadata": {
    "collapsed": false
   },
   "outputs": [
    {
     "data": {
      "text/html": [
       "<div>\n",
       "<table border=\"1\" class=\"dataframe\">\n",
       "  <thead>\n",
       "    <tr style=\"text-align: right;\">\n",
       "      <th></th>\n",
       "      <th>1:</th>\n",
       "    </tr>\n",
       "  </thead>\n",
       "  <tbody>\n",
       "    <tr>\n",
       "      <th>0</th>\n",
       "      <td>&lt;p&gt;</td>\n",
       "    </tr>\n",
       "    <tr>\n",
       "      <th>1</th>\n",
       "      <td>A man visits the doctor. The doctor says, &amp;quot;I have bad news for you. You have cancer and Alzheimer&amp;#039;s disease&amp;quot;.&lt;br /&gt;</td>\n",
       "    </tr>\n",
       "    <tr>\n",
       "      <th>2</th>\n",
       "      <td>&lt;br /&gt;</td>\n",
       "    </tr>\n",
       "    <tr>\n",
       "      <th>3</th>\n",
       "      <td>The man replies, &amp;quot;Well, thank God I don&amp;#039;t have cancer!&amp;quot;</td>\n",
       "    </tr>\n",
       "    <tr>\n",
       "      <th>4</th>\n",
       "      <td>&lt;/p&gt;</td>\n",
       "    </tr>\n",
       "  </tbody>\n",
       "</table>\n",
       "</div>"
      ],
      "text/plain": [
       "                                                                                                                                   1:\n",
       "0                                                                                                                                 <p>\n",
       "1  A man visits the doctor. The doctor says, &quot;I have bad news for you. You have cancer and Alzheimer&#039;s disease&quot;.<br />\n",
       "2                                                                                                                              <br />\n",
       "3                                                              The man replies, &quot;Well, thank God I don&#039;t have cancer!&quot;\n",
       "4                                                                                                                                </p>"
      ]
     },
     "execution_count": 272,
     "metadata": {},
     "output_type": "execute_result"
    }
   ],
   "source": [
    "jokes_contents = pd.read_table(\"data/jokes.dat\")     \n",
    "jokes_contents.head()\n"
   ]
  },
  {
   "cell_type": "code",
   "execution_count": 273,
   "metadata": {
    "collapsed": false
   },
   "outputs": [
    {
     "data": {
      "text/html": [
       "<div>\n",
       "<table border=\"1\" class=\"dataframe\">\n",
       "  <thead>\n",
       "    <tr style=\"text-align: right;\">\n",
       "      <th></th>\n",
       "      <th>user_id</th>\n",
       "      <th>joke_id</th>\n",
       "      <th>rating</th>\n",
       "    </tr>\n",
       "  </thead>\n",
       "  <tbody>\n",
       "    <tr>\n",
       "      <th>0</th>\n",
       "      <td>34888</td>\n",
       "      <td>111</td>\n",
       "      <td>-9.71875</td>\n",
       "    </tr>\n",
       "    <tr>\n",
       "      <th>1</th>\n",
       "      <td>49651</td>\n",
       "      <td>119</td>\n",
       "      <td>4.75000</td>\n",
       "    </tr>\n",
       "    <tr>\n",
       "      <th>2</th>\n",
       "      <td>29027</td>\n",
       "      <td>137</td>\n",
       "      <td>2.62500</td>\n",
       "    </tr>\n",
       "    <tr>\n",
       "      <th>3</th>\n",
       "      <td>25235</td>\n",
       "      <td>30</td>\n",
       "      <td>-2.43750</td>\n",
       "    </tr>\n",
       "    <tr>\n",
       "      <th>4</th>\n",
       "      <td>50499</td>\n",
       "      <td>19</td>\n",
       "      <td>2.18750</td>\n",
       "    </tr>\n",
       "  </tbody>\n",
       "</table>\n",
       "</div>"
      ],
      "text/plain": [
       "   user_id  joke_id   rating\n",
       "0    34888      111 -9.71875\n",
       "1    49651      119  4.75000\n",
       "2    29027      137  2.62500\n",
       "3    25235       30 -2.43750\n",
       "4    50499       19  2.18750"
      ]
     },
     "execution_count": 273,
     "metadata": {},
     "output_type": "execute_result"
    }
   ],
   "source": [
    "# Training data\n",
    "ratings_contents = pd.read_table(\"data/ratings.dat\")    \n",
    "ratings_contents.head()\n",
    "# ratings_contents.shape"
   ]
  },
  {
   "cell_type": "markdown",
   "metadata": {},
   "source": [
    "# Notes/Observations\n",
    "- Ratings range from -10 to +10\n",
    "- Explicit data because of ratings\n",
    "- Use a user-item based utility matrix\n",
    "- Jokes 7, 8, 13, 15, 16, 17, 18, 19 are the gauge set\n",
    "- Jokes 1, 2, 3, 4, 5, 6, 9, 10, 11, 12, 14, 20, 27, 31, 43, 51, 52, 61, 73, 80, 100, 116 have been removed.\n",
    "\n",
    "Questions:\n",
    "- What does the gauge set mean? \n",
    "\n",
    "\n",
    "1. Need to construct a utility matrix of users vs. items"
   ]
  },
  {
   "cell_type": "code",
   "execution_count": 274,
   "metadata": {
    "collapsed": false
   },
   "outputs": [
    {
     "data": {
      "text/html": [
       "<div>\n",
       "<table border=\"1\" class=\"dataframe\">\n",
       "  <thead>\n",
       "    <tr style=\"text-align: right;\">\n",
       "      <th></th>\n",
       "      <th>user_id</th>\n",
       "      <th>joke_id</th>\n",
       "      <th>rating</th>\n",
       "    </tr>\n",
       "  </thead>\n",
       "  <tbody>\n",
       "    <tr>\n",
       "      <th>0</th>\n",
       "      <td>49541</td>\n",
       "      <td>113</td>\n",
       "      <td>5</td>\n",
       "    </tr>\n",
       "    <tr>\n",
       "      <th>1</th>\n",
       "      <td>39499</td>\n",
       "      <td>37</td>\n",
       "      <td>5</td>\n",
       "    </tr>\n",
       "    <tr>\n",
       "      <th>2</th>\n",
       "      <td>36804</td>\n",
       "      <td>73</td>\n",
       "      <td>5</td>\n",
       "    </tr>\n",
       "    <tr>\n",
       "      <th>3</th>\n",
       "      <td>16470</td>\n",
       "      <td>33</td>\n",
       "      <td>5</td>\n",
       "    </tr>\n",
       "    <tr>\n",
       "      <th>4</th>\n",
       "      <td>22614</td>\n",
       "      <td>128</td>\n",
       "      <td>5</td>\n",
       "    </tr>\n",
       "  </tbody>\n",
       "</table>\n",
       "</div>"
      ],
      "text/plain": [
       "   user_id  joke_id  rating\n",
       "0    49541      113       5\n",
       "1    39499       37       5\n",
       "2    36804       73       5\n",
       "3    16470       33       5\n",
       "4    22614      128       5"
      ]
     },
     "execution_count": 274,
     "metadata": {},
     "output_type": "execute_result"
    }
   ],
   "source": [
    "sample_submissions_contents = pd.read_csv(\"data/sample_submission.csv\")\n",
    "sample_submissions_contents\n",
    "\n",
    "sample_submissions_contents.shape\n",
    "sample_submissions_contents.head()"
   ]
  },
  {
   "cell_type": "markdown",
   "metadata": {},
   "source": [
    "# Notes/Observations\n",
    "- Half the size of the ratings_contents data because it takes out users who did not answer the gauge set.\n",
    "\n",
    "\n",
    "Questions:\n",
    "- What does the gauge set mean? "
   ]
  },
  {
   "cell_type": "code",
   "execution_count": 275,
   "metadata": {
    "collapsed": false
   },
   "outputs": [
    {
     "data": {
      "text/html": [
       "<div>\n",
       "<table border=\"1\" class=\"dataframe\">\n",
       "  <thead>\n",
       "    <tr style=\"text-align: right;\">\n",
       "      <th></th>\n",
       "      <th>user_id</th>\n",
       "      <th>joke_id</th>\n",
       "      <th>rating</th>\n",
       "    </tr>\n",
       "  </thead>\n",
       "  <tbody>\n",
       "    <tr>\n",
       "      <th>0</th>\n",
       "      <td>49541</td>\n",
       "      <td>113</td>\n",
       "      <td>4.010419</td>\n",
       "    </tr>\n",
       "    <tr>\n",
       "      <th>1</th>\n",
       "      <td>39499</td>\n",
       "      <td>37</td>\n",
       "      <td>1.621052</td>\n",
       "    </tr>\n",
       "    <tr>\n",
       "      <th>2</th>\n",
       "      <td>36804</td>\n",
       "      <td>73</td>\n",
       "      <td>5.072449</td>\n",
       "    </tr>\n",
       "    <tr>\n",
       "      <th>3</th>\n",
       "      <td>16470</td>\n",
       "      <td>33</td>\n",
       "      <td>6.214692</td>\n",
       "    </tr>\n",
       "    <tr>\n",
       "      <th>4</th>\n",
       "      <td>22614</td>\n",
       "      <td>128</td>\n",
       "      <td>5.999286</td>\n",
       "    </tr>\n",
       "  </tbody>\n",
       "</table>\n",
       "</div>"
      ],
      "text/plain": [
       "   user_id  joke_id    rating\n",
       "0    49541      113  4.010419\n",
       "1    39499       37  1.621052\n",
       "2    36804       73  5.072449\n",
       "3    16470       33  6.214692\n",
       "4    22614      128  5.999286"
      ]
     },
     "execution_count": 275,
     "metadata": {},
     "output_type": "execute_result"
    }
   ],
   "source": [
    "sample_submissions_contents = pd.read_csv(\"data/test_ratings.csv\")\n",
    "sample_submissions_contents.head()"
   ]
  },
  {
   "cell_type": "code",
   "execution_count": 276,
   "metadata": {
    "collapsed": false
   },
   "outputs": [
    {
     "data": {
      "text/plain": [
       "pandas.core.frame.DataFrame"
      ]
     },
     "execution_count": 276,
     "metadata": {},
     "output_type": "execute_result"
    }
   ],
   "source": [
    "jokes_contents = pd.read_table(\"data/jokes.dat\")     \n",
    "jokes_contents.head()\n",
    "#jokes_string = jokes_contents['1:'].apply(lambda x: ' '.join(x))\n",
    "\n",
    "# Combine all rows in jokes_content into one string\n",
    "joke_string = jokes_contents['1:'].str.cat(sep=' ')\n",
    "\n",
    "# Separate each joke into individual strings\n",
    "joke_string_split = joke_string.split('</p')\n",
    "\n",
    "# Create a df with each joke\n",
    "joke_df = pd.DataFrame(joke_string_split)\n",
    "\n",
    "for joke in joke_df:\n",
    "    joke_df['Joke ID'] = joke_df.index + 1\n",
    "\n",
    "cols = joke_df.columns.tolist()\n",
    "cols = cols[-1:] + cols[:-1]\n",
    "joke_df = joke_df[cols]\n",
    "joke_df.head()\n",
    "\n",
    "# Slice of meaningless characters in jokes\n",
    "\n",
    "type(joke_df)"
   ]
  },
  {
   "cell_type": "code",
   "execution_count": null,
   "metadata": {
    "collapsed": false
   },
   "outputs": [],
   "source": [
    "joke_df.rename(columns={0:'Joke Text'}, inplace=True)\n",
    "\n",
    "joke_df.head()\n",
    "joke_df['Joke Text'] = joke_df['Joke Text'].map(lambda x: x.lstrip('<>p').rstrip('>'))\n",
    "joke_df['Joke Text'] = joke_df['Joke Text'].map(lambda x: x.lstrip('<p>').rstrip('>'))\n",
    "joke_df['Joke Text'] = joke_df['Joke Text'].str.replace('\\d+', '')\n",
    "joke_df['Joke Text'] = joke_df['Joke Text'].str.replace(':', '')\n",
    "joke_df['Joke Text'] = joke_df['Joke Text'].str.replace('<p>', '')\n",
    "joke_df['Joke Text'] = joke_df['Joke Text'].str.replace('Q.', '')\n",
    "joke_df = joke_df.replace({'&#;': '', '<br />': '', '&quot;':''}, regex=True)\n",
    "\n",
    "joke_df.head()\n",
    "\n",
    "# Join the new joke text with old dataframe\n",
    "\n",
    "new_joke_df = pd.concat([joke_df, ratings_contents])\n",
    "\n",
    "ratings_contents.head()\n",
    "new_joke_df = joke_df.merge(ratings_contents, left_on='Joke ID', right_on='joke_id', how='outer')\n",
    "\n",
    "del new_joke_df['joke_id']\n",
    "\n",
    "new_joke_df.head()\n",
    "# count = new_joke_df['Joke Text'].str.split().apply(len).value_counts()\n",
    "new_joke_df['Joke Text'].str.split()"
   ]
  },
  {
   "cell_type": "markdown",
   "metadata": {},
   "source": [
    "# Different things to text for NLP\n",
    "- NMF\n",
    "\n",
    "New SideData:\n",
    "- Topics each joke belongs to a specific number\n",
    "- # of words in a joke\n",
    "- # Key words within the highest rated jokes, add % of words \n",
    "- Stemming & Lemmatizing\n"
   ]
  },
  {
   "cell_type": "code",
   "execution_count": null,
   "metadata": {
    "collapsed": false
   },
   "outputs": [],
   "source": []
  },
  {
   "cell_type": "code",
   "execution_count": null,
   "metadata": {
    "collapsed": false
   },
   "outputs": [],
   "source": [
    "for joke in np.unique(new_joke_df[\"Joke Text\"]):\n",
    "    new_joke_df[new_joke_df['Joke Text'] == joke]['Word Counts'] = len(joke)\n",
    "    \n",
    "new_joke_df.head()"
   ]
  },
  {
   "cell_type": "code",
   "execution_count": null,
   "metadata": {
    "collapsed": false
   },
   "outputs": [],
   "source": []
  },
  {
   "cell_type": "code",
   "execution_count": null,
   "metadata": {
    "collapsed": true
   },
   "outputs": [],
   "source": []
  },
  {
   "cell_type": "code",
   "execution_count": null,
   "metadata": {
    "collapsed": true
   },
   "outputs": [],
   "source": []
  }
 ],
 "metadata": {
  "kernelspec": {
   "display_name": "Python [default]",
   "language": "python",
   "name": "python2"
  },
  "language_info": {
   "codemirror_mode": {
    "name": "ipython",
    "version": 2
   },
   "file_extension": ".py",
   "mimetype": "text/x-python",
   "name": "python",
   "nbconvert_exporter": "python",
   "pygments_lexer": "ipython2",
   "version": "2.7.13"
  }
 },
 "nbformat": 4,
 "nbformat_minor": 2
}
